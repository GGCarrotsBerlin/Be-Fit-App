{
 "cells": [
  {
   "cell_type": "markdown",
   "metadata": {},
   "source": [
    "### Push data to elastic search"
   ]
  },
  {
   "cell_type": "code",
   "execution_count": 1,
   "metadata": {
    "collapsed": true
   },
   "outputs": [],
   "source": [
    "import json\n",
    "from elasticsearch import Elasticsearch, client\n",
    "from util import flatten_list\n",
    "from data_connector import import_data"
   ]
  },
  {
   "cell_type": "code",
   "execution_count": 2,
   "metadata": {
    "collapsed": false
   },
   "outputs": [
    {
     "data": {
      "text/plain": [
       "{'geometry': {'location': {'lat': 52.5847644, 'lon': 13.2114144}},\n",
       " 'id': '8b793795c49aded166bfa6385c8e571b3b559ae7',\n",
       " 'keyword': 'health',\n",
       " 'name': 'DLRG Wasserrettungsstation Bürgerablage',\n",
       " 'place_id': 'ChIJVd6Pzu1VqEcRu3VEZvdYLIU',\n",
       " 'types': ['health', 'point_of_interest', 'establishment'],\n",
       " 'vicinity': 'Niederneuendorfer Allee 79, Berlin'}"
      ]
     },
     "execution_count": 2,
     "metadata": {},
     "output_type": "execute_result"
    }
   ],
   "source": [
    "gmap_places_by_type = json.loads(open('../data/gmap_places_by_type.json').read())\n",
    "gmap_places_by_type[0]"
   ]
  },
  {
   "cell_type": "code",
   "execution_count": 3,
   "metadata": {
    "collapsed": false
   },
   "outputs": [
    {
     "data": {
      "text/plain": [
       "{'geometry': {'location': {'lat': 52.47449899999999, 'lon': 13.2940632},\n",
       "  'viewport': {'northeast': {'lat': 52.47455959999999, 'lon': 13.29411355},\n",
       "   'southwest': {'lat': 52.47431719999999, 'lon': 13.29391215}}},\n",
       " 'id': '03b4f62b92f2d46c35461145acb6c1676947d4b2',\n",
       " 'keyword': 'vegan',\n",
       " 'name': 'Mr. Pizz',\n",
       " 'place_id': 'ChIJ0_JEJLwjZUERCSkwAjg6aIM',\n",
       " 'rating': 3.8,\n",
       " 'types': ['meal_delivery',\n",
       "  'restaurant',\n",
       "  'food',\n",
       "  'point_of_interest',\n",
       "  'establishment'],\n",
       " 'vicinity': 'Breite Straße 14, Berlin'}"
      ]
     },
     "execution_count": 3,
     "metadata": {},
     "output_type": "execute_result"
    }
   ],
   "source": [
    "gmap_places_by_kw = json.loads(open('../data/gmap_places_by_kw.json').read())\n",
    "gmap_places_by_kw[0]"
   ]
  },
  {
   "cell_type": "code",
   "execution_count": 4,
   "metadata": {
    "collapsed": true
   },
   "outputs": [],
   "source": [
    "gmap_places = gmap_places_by_type + gmap_places_by_kw"
   ]
  },
  {
   "cell_type": "code",
   "execution_count": 5,
   "metadata": {
    "collapsed": false
   },
   "outputs": [
    {
     "data": {
      "text/plain": [
       "{'bouldern',\n",
       " 'crossfit',\n",
       " 'fitness',\n",
       " 'freibad',\n",
       " 'freibadschwimmhalle',\n",
       " 'hallenbad',\n",
       " 'kampfsport',\n",
       " 'klettern',\n",
       " 'pilates',\n",
       " 'skatepark',\n",
       " 'sportverein',\n",
       " 'tanzschule',\n",
       " 'training',\n",
       " 'vegan',\n",
       " 'yoga',\n",
       " 'zumba'}"
      ]
     },
     "execution_count": 5,
     "metadata": {},
     "output_type": "execute_result"
    }
   ],
   "source": [
    "set([el['keyword'] for el in gmap_places_by_kw])"
   ]
  },
  {
   "cell_type": "code",
   "execution_count": 6,
   "metadata": {
    "collapsed": false
   },
   "outputs": [
    {
     "data": {
      "text/plain": [
       "{'doctor',\n",
       " 'gym',\n",
       " 'health',\n",
       " 'hospital',\n",
       " 'park',\n",
       " 'pharmacy',\n",
       " 'physiotherapist',\n",
       " 'spa'}"
      ]
     },
     "execution_count": 6,
     "metadata": {},
     "output_type": "execute_result"
    }
   ],
   "source": [
    "set([el['keyword'] for el in gmap_places_by_type])"
   ]
  },
  {
   "cell_type": "code",
   "execution_count": 7,
   "metadata": {
    "collapsed": false
   },
   "outputs": [
    {
     "name": "stdout",
     "output_type": "stream",
     "text": [
      "18232\n",
      "1268\n",
      "19500\n"
     ]
    }
   ],
   "source": [
    "print(len(gmap_places_by_type))\n",
    "print(len(gmap_places_by_kw))\n",
    "print(len(gmap_places))"
   ]
  },
  {
   "cell_type": "code",
   "execution_count": 8,
   "metadata": {
    "collapsed": false
   },
   "outputs": [
    {
     "data": {
      "text/plain": [
       "19500"
      ]
     },
     "execution_count": 8,
     "metadata": {},
     "output_type": "execute_result"
    }
   ],
   "source": [
    "len(set([el['place_id'] for el in gmap_places]))"
   ]
  },
  {
   "cell_type": "code",
   "execution_count": 9,
   "metadata": {
    "collapsed": false
   },
   "outputs": [
    {
     "data": {
      "text/plain": [
       "18672"
      ]
     },
     "execution_count": 9,
     "metadata": {},
     "output_type": "execute_result"
    }
   ],
   "source": [
    "len(set([el['name'] for el in gmap_places]))"
   ]
  },
  {
   "cell_type": "code",
   "execution_count": 10,
   "metadata": {
    "collapsed": true
   },
   "outputs": [],
   "source": [
    "seen = set([])\n",
    "twice = set([])\n",
    "for el in gmap_places:\n",
    "    if el['name'] in seen:\n",
    "        twice.add(el['name'])\n",
    "    seen.add(el['name'])"
   ]
  },
  {
   "cell_type": "code",
   "execution_count": 11,
   "metadata": {
    "collapsed": false
   },
   "outputs": [
    {
     "data": {
      "text/plain": [
       "[{'geometry': {'location': {'lat': 52.57067, 'lon': 13.57097},\n",
       "   'viewport': {'northeast': {'lat': 52.57070135, 'lon': 13.57101565},\n",
       "    'southwest': {'lat': 52.57058114999999, 'lon': 13.57095385}}},\n",
       "  'id': '608b12b09c29ce24797d562103b9fe1f64dcf71b',\n",
       "  'keyword': 'gym',\n",
       "  'name': 'Hatha Yoga Sandro',\n",
       "  'place_id': 'ChIJ8XSR13lLqEcRMDDI12R_niQ',\n",
       "  'types': ['gym', 'health', 'point_of_interest', 'establishment'],\n",
       "  'vicinity': 'Rosenbecker Straße 25, Berlin'},\n",
       " {'geometry': {'location': {'lat': 52.5420503, 'lon': 13.3700267},\n",
       "   'viewport': {'northeast': {'lat': 52.5420549, 'lon': 13.3701257},\n",
       "    'southwest': {'lat': 52.54204530000001, 'lon': 13.3699193}}},\n",
       "  'id': '8fc94d197adc6f06e81ce64dff859d6056557e97',\n",
       "  'keyword': 'gym',\n",
       "  'name': 'Yoga',\n",
       "  'place_id': 'ChIJ0Y40BIZRqEcRkKa4Z8hrgVg',\n",
       "  'types': ['gym', 'health', 'point_of_interest', 'establishment'],\n",
       "  'vicinity': 'Reinickendorfer Straße 11, Berlin'},\n",
       " {'geometry': {'location': {'lat': 52.5169261, 'lon': 13.5798146},\n",
       "   'viewport': {'northeast': {'lat': 52.5169441, 'lon': 13.57995485},\n",
       "    'southwest': {'lat': 52.51692010000001, 'lon': 13.57939385}}},\n",
       "  'id': '66ada8180806e15982526dd0ef608fac0b1278e3',\n",
       "  'keyword': 'gym',\n",
       "  'name': 'Hatha Yoga Sandro',\n",
       "  'place_id': 'ChIJra16hHtJqEcRgjJIL_T19ZE',\n",
       "  'types': ['gym', 'health', 'point_of_interest', 'establishment'],\n",
       "  'vicinity': 'Boizenburger Straße 52-54, Berlin'},\n",
       " {'geometry': {'location': {'lat': 52.50246009999999, 'lon': 13.4571927},\n",
       "   'viewport': {'northeast': {'lat': 52.50254995, 'lon': 13.4573586},\n",
       "    'southwest': {'lat': 52.50243014999999, 'lon': 13.456695}}},\n",
       "  'id': '3bb32aed051640d34ba1d47202538143ed9da80f',\n",
       "  'keyword': 'gym',\n",
       "  'name': 'Hatha Yoga Sandro',\n",
       "  'place_id': 'ChIJyYhDuldOqEcRQNpah6VlQC8',\n",
       "  'types': ['gym', 'health', 'point_of_interest', 'establishment'],\n",
       "  'vicinity': 'Modersohnstraße 55, Berlin'},\n",
       " {'geometry': {'location': {'lat': 52.55228, 'lon': 13.38246},\n",
       "   'viewport': {'northeast': {'lat': 52.55239705, 'lon': 13.3825898},\n",
       "    'southwest': {'lat': 52.55192885, 'lon': 13.3820706}}},\n",
       "  'id': 'ea247219f151a69c5c66f2145e8e5c5f8f554997',\n",
       "  'keyword': 'yoga',\n",
       "  'name': 'Yoga',\n",
       "  'place_id': 'ChIJybAgEiRSqEcRwJ_LJxHQAps',\n",
       "  'types': ['gym', 'health', 'point_of_interest', 'establishment'],\n",
       "  'vicinity': 'Badstraße 23, Wedding'}]"
      ]
     },
     "execution_count": 11,
     "metadata": {},
     "output_type": "execute_result"
    }
   ],
   "source": [
    "# There are some duplicated places though\n",
    "[d for d in gmap_places if d['name'] in list(twice)[2]]"
   ]
  },
  {
   "cell_type": "code",
   "execution_count": 16,
   "metadata": {
    "collapsed": false
   },
   "outputs": [
    {
     "name": "stdout",
     "output_type": "stream",
     "text": [
      "Loaded 19500 records to elasticsearch\n"
     ]
    }
   ],
   "source": [
    "es = Elasticsearch(sniff_on_start=True, \n",
    "                   sniff_on_connection_fail=True,\n",
    "                   sniffer_timeout=120)\n",
    "\n",
    "# Make sure to delete index for existing data and replace with this \n",
    "import_data(gmap_places, 'hacklikeagirl_places', 'place')"
   ]
  },
  {
   "cell_type": "code",
   "execution_count": null,
   "metadata": {
    "collapsed": true
   },
   "outputs": [],
   "source": []
  }
 ],
 "metadata": {
  "kernelspec": {
   "display_name": "Python 3",
   "language": "python",
   "name": "python3"
  },
  "language_info": {
   "codemirror_mode": {
    "name": "ipython",
    "version": 3
   },
   "file_extension": ".py",
   "mimetype": "text/x-python",
   "name": "python",
   "nbconvert_exporter": "python",
   "pygments_lexer": "ipython3",
   "version": "3.5.1"
  }
 },
 "nbformat": 4,
 "nbformat_minor": 1
}
